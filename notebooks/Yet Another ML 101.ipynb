{
 "metadata": {
  "kernelspec": {
   "display_name": "Python 2",
   "language": "python",
   "name": "python2"
  },
  "language_info": {
   "codemirror_mode": {
    "name": "ipython",
    "version": 2
   },
   "file_extension": ".py",
   "mimetype": "text/x-python",
   "name": "python",
   "nbconvert_exporter": "python",
   "pygments_lexer": "ipython2",
   "version": "2.7.10"
  },
  "name": "",
  "signature": "sha256:c94689b15103420f460620dcb26caa4eb1de2d7bdb164cc7abda0d0ac9767cf4"
 },
 "nbformat": 3,
 "nbformat_minor": 0,
 "worksheets": [
  {
   "cells": [
    {
     "cell_type": "markdown",
     "metadata": {},
     "source": [
      "This post is a somewhat short recap of machine learning in general. I wrote it as lecture notes for a tutorial that I gave in one of the [robotics courses at TU Berlin](http://www.robotics.tu-berlin.de).\n",
      "\n",
      "It will probably be difficult to understand it in detail if you are a beginner. For beginners, I recommend reading [my blog on intuitive machine intelligence](http://www.intuitivemi.de).\n",
      "\n",
      "## General setting\n",
      "\n",
      "In general, we distinguish three general paradigms in ML\n",
      "\n",
      "- **Supervised Learning**\n",
      "- **Unsupervised Learning**\n",
      "- **Reinforcement Learning**\n",
      "\n",
      "Additionally, there is a variety of other paradigms, which are not going to be covered here, such as **semi-supervised learning** and **learning from side information** which will not be covered here.\n",
      "\n",
      "In all types of machine learning the goal is to learn a function to predict some output from some input data:\n",
      "\n",
      "$$f: X \\rightarrow Y$$\n",
      "\n",
      "The different paradigms differ in \n",
      "- the goal, i.e. what kind of guys $X$ and $Y$ are\n",
      "- the training data available to learn $f$\n",
      "\n",
      "We will now review the different paradigms and give examples."
     ]
    },
    {
     "cell_type": "markdown",
     "metadata": {},
     "source": [
      "# Supervised Learning\n",
      "\n",
      "Supervised learning is by far the most popular paradigm. Here, we are directly given examples from $X$ and $Y$, i.e. $N$ pairs $\\{ x^{(i)}, y^{(i)} \\}_{i=1\\ldots N }$. The data $x^{(i)}$ are called the *input data* and $y^{(i)}$ the *labels*.\n",
      "Together, they are called the *training data*.\n",
      "\n",
      "Any ML method usually consists of three ingredients.\n",
      "- A representation of $f$, i.e. whether it is a linear function, or non-parametric, etc. \n",
      "- An appropriate *loss function* $\\mathcal{L}$,\n",
      "- which is minimized using an *optimization method*. \n",
      "\n",
      "The loss function for supervised learning looks as follows:\n",
      "\n",
      "$$f = \\textrm{argmin}_{f} \\mathcal{L} ( \\{ x^{(i)}, y^{(i)} \\}_{i=1\\ldots N })$$\n",
      "\n",
      "A *loss function* can be thought of as an assessment of how good $f$ fits the training data. If its value is high, it means that $f(x^{(i)})$, i.e. the prediction of our current function $f$ given $x^{(i)}$, is very different from the known value $y^{(i)}$. If $\\mathcal{L} = 0$, it means the $f$ perfectly fits the data. \n",
      "\n",
      "An *optimization* method can be thought of as some method that is given data and a loss function and automatically tries to find the minimal function fulfilling the loss. There is a wide variety of optimization methods, and they mostly differ by the knowlegde they have about $f$, and about the properties of $f$ (e.g. if $f$ is differentiable, we can compute its derivative, set it to zero, and go step by step in the direction of steepest descent; this is called *gradient descent optimization*). We will mostly treat optimization as a black-box here, but it is of course the success in learning a function greatly depends on the optimization used.\n",
      "\n",
      "The representation of $f$ also drastically influences. The easiest and best-understood representation are linear functions, but also neural networks (which are some sort of nonlinear functions) are very common nowadays.  \n",
      "\n",
      "Usually you don't have to worry about choosing $f$, the loss and the optimization if you just want to apply some ML method. An ML method usually determines all three things, and is tuned in such a way that all of them work together nicely.\n",
      "\n",
      "\n",
      "### Overfitting\n",
      "\n",
      "However, only making $\\mathcal{L}=0$ for the training data, i.e. only fitting the training data does not necessarily solve the problem -- the task is to learn an $f$ that *generalizes* to unseen examples $x^{(j)}$. Fitting the training data is very easy: just memorize all of them by heart! Therefore, the core problem of any machine learning to learn an $f$ that generalizes. If $f$ only works well on the training data, but not on unseen data, $f$ is said to *overfit*.\n",
      "\n",
      "### Example: Linear regression\n",
      "\n",
      "Let us consider a simple example for supervised learning: *linear regression*.\n",
      "\n",
      "Assume we want to predict the price of apartments in Berlin, given their size of square meters of the apartment. Here is the data (for example collected from wg-gesucht.de):\n",
      "\n",
      "<table style=\"border 1px solid black;\">\n",
      "<tr>\n",
      "<th> $X$ (square meters) </th>\n",
      "<th> $Y$ (monthly rent in Euro)</th>\n",
      "</tr>\n",
      "<tr>\n",
      "<td>40</td><td>500</td>\n",
      "</tr>\n",
      "<tr>\n",
      "<td>65</td><td>620</td>\n",
      "</tr>\n",
      "<tr>\n",
      "<td>80</td><td>855</td>\n",
      "</tr>\n",
      "<tr>\n",
      "<td>81</td><td>910</td>\n",
      "</tr>\n",
      "<tr>\n",
      "<td>100</td><td>1100</td>\n",
      "</tr>\n",
      "<tr>\n",
      "<td>120</td><td>1250</td>\n",
      "</tr>\n",
      "</table>\n",
      "\n",
      "Let's plot the data"
     ]
    },
    {
     "cell_type": "code",
     "collapsed": false,
     "input": [
      "%pylab inline\n",
      "\n",
      "X = array([40, 65, 80, 81, 100, 120]).reshape((-1, 1))\n",
      "Y = array([500, 620, 855, 910, 1100, 1250])\n",
      "\n",
      "scatter(X, Y);"
     ],
     "language": "python",
     "metadata": {},
     "outputs": [
      {
       "output_type": "stream",
       "stream": "stdout",
       "text": [
        "Populating the interactive namespace from numpy and matplotlib\n"
       ]
      },
      {
       "metadata": {},
       "output_type": "display_data",
       "png": "[encoded data removed]",
       "text": [
        "<matplotlib.figure.Figure at 0x7f3be80fde50>"
       ]
      }
     ],
     "prompt_number": 1
    },
    {
     "cell_type": "markdown",
     "metadata": {},
     "source": [
      "The idea is linear regression is to fit a linear function, i.e. a line of the form $f(x) = w_1 x + w_0$ to the data. To learn such a line we define as loss the *mean-squared error* which penalizes large deviations of $f(x)$ from the known $y$:\n",
      "\n",
      "$$ \\mathcal{L}_\\textrm{MSE}\n",
      "= \\frac{1}{2N}  \\sum_{i=0}^N ( f(x^{(i)}) - y^{(i)})^2\\\\\n",
      "= \\frac{1}{2N} \\sum_{i=0}^N ( w_1 x^{(i)} + w_0 - y^{(i)})^2\n",
      "$$\n",
      "\n",
      "Maybe you are a bit confused about the fraction $\\frac{1}{2N}$. The reason we use it, because if we compute the derivative $\\mathcal{L}_\\textrm{MSE}$, the square within the sum cancels out this fraction; and the $\\frac{1}{N}$ normalizes for the number of training examples.\n",
      "\n",
      "Note that usually $x$ is multi-dimensional, i.e. a vector $\\mathbf{x}$. Then $w_1$ becomes a weight vector $\\mathbf{w}$. \n",
      "We can do another trick to get rid of $w_0$ (called the *bias* or *intercept* term) by appending a $1$ to $\\mathbf{x}$, and extending $\\mathbf{w}$ by one dimension. This facilitates notation a bit, as it allows us to write the loss using vector notation:\n",
      "\n",
      "$$ \\mathcal{L}_\\textrm{MSE} = \\frac{1}{2N} \\sum_{i=0}^N ( \\mathbf{w}^T \\mathbf{x}^{(i)} - y^{(i)})^2$$\n",
      "\n",
      "### Gradient descent\n",
      "\n",
      "How to optimize it? One way is to compute the partial derivative wrt. each $j$-th element of the weight (the so-called *gradient*), and change the updates:\n",
      "\n",
      "$$\n",
      "\\nabla \\mathcal{L}_\\textrm{MSE} = \n",
      "\\frac{\\partial \\mathcal{L}_\\textrm{MSE}}{\\partial {w}_j} \n",
      "= \\frac{1}{2N} \\sum_{i=0}^N \\frac{\\partial}{\\partial {w}_j} \n",
      "( \\mathbf{w}^T \\mathbf{x}^{(i)} - y^{(i)})^2 \\\\\n",
      "= \\frac{1}{2N} \\sum_{i=0}^N 2 x_j^{(i)}  (w_j x_j^{(i)} - y^{(j)})\\\\\n",
      "= \\frac{1}{N} \\sum_{i=0}^N w_j (f(x_j^{(i)}) - y^{(j)})\n",
      "$$\n",
      "\n",
      "The [gradient descent](https://en.wikipedia.org/wiki/Gradient_descent) algorithm then goes as follows:\n",
      "\n",
      "- Initialize the weights $\\mathbf{w}$ randomly\n",
      "- Update each $j$-th entry in the weight vector by following the negative gradient:<br/>$w_j^\\textrm{new} = w_j - \\alpha \\frac{1}{N} \\sum_{i=0}^N w_j (f(x_j^{(i)}) - y^{(j)})$\n",
      " \n",
      "Here, $\\alpha$ denotes the step size. This has to small enough, so we don't overshoot. \n",
      "\n",
      "If we image the loss function to be a \"bowl\" and every $\\mathbf{w}$ to be a point in this bowl, the gradient points towards the bottom of this bown, and thus the minimum of the loss. The update rule then takes small steps towards this minimum. \n",
      "This is a cool visualization which is also accompanied by a [Matlab script](http://www.mathworks.com/matlabcentral/fileexchange/35389-gradient-descent-visualization):\n",
      "<img src=\"http://www.mathworks.com/matlabcentral/mlc-downloads/downloads/submissions/35389/versions/1/screenshot.png\" style=\"width:30%\" alt=\"Obtained from http://www.mathworks.com/matlabcentral/fileexchange/35389-gradient-descent-visualization\" />\n",
      "  \n",
      "Gradient descent is a very important technique, very popular especially for training neural networks (see below).\n",
      "\n",
      "### Ordinary least squares\n",
      "\n",
      "In the linear regression case, however, there is a more direct solution. If we consider $\\mathbf{w}$ to be a matrix rather then a vector, we can write the loss in the following way:\n",
      "\n",
      "$$ \\mathcal{L}_\\textrm{MSE} = \\mathbf{X}\\mathbf{w} - \\mathbf{y}$$\n",
      "\n",
      "where $\\mathbf{X}$ contains in each $i$-th *row* on training example $\\mathbf{x}^{(i)}$, and $\\mathbf{y}$ in each $i$-th row a\n",
      "label  $y^{(i)}$.\n",
      "\n",
      "Now we can set it 0, bring $\\mathbf{y}$ to the right-hand side and solve for $\\mathbf{w}$. To that we need to invert $\\mathbf{X}$ -- which is usually not possible because it is not square in the general case. But we can apply a trick: using the pseudo-inverse: \n",
      "\n",
      "$$\\mathbf{X}\\mathbf{w} = \\mathbf{y}\\\\\n",
      "\\mathbf{X}^T\\mathbf{X}\\mathbf{w} = \\mathbf{X}^T\\mathbf{y}\\\\\n",
      "\\mathbf{w} = (\\mathbf{X}^T\\mathbf{X})^-1 \\mathbf{X}^T\\mathbf{y}\\\\\n",
      "$$\n",
      "\n",
      "where $(\\mathbf{X}^T\\mathbf{X})^-1 \\mathbf{X}^T$ is also known as the *pseudo-inverse*.\n",
      "\n",
      "### Computational example\n",
      "\n",
      "Let's now implement this in python. \n",
      "\n"
     ]
    },
    {
     "cell_type": "code",
     "collapsed": false,
     "input": [
      "# transpose training data and append 1\n",
      "Xhat = np.hstack([X, np.ones((X.shape[0],1.))])\n",
      "w = np.linalg.inv(Xhat.T.dot(Xhat)).dot(Xhat.T).dot(Y)\n",
      "w"
     ],
     "language": "python",
     "metadata": {},
     "outputs": [
      {
       "metadata": {},
       "output_type": "pyout",
       "prompt_number": 7,
       "text": [
        "array([ 10.04581152,  58.78926702])"
       ]
      }
     ],
     "prompt_number": 7
    },
    {
     "cell_type": "code",
     "collapsed": false,
     "input": [
      "scatter(X, Y)\n",
      "plot(X, Xhat.dot(w));"
     ],
     "language": "python",
     "metadata": {},
     "outputs": [
      {
       "metadata": {},
       "output_type": "display_data",
       "png": "[encoded data removed]",
       "text": [
        "<matplotlib.figure.Figure at 0x7f3be810aa90>"
       ]
      }
     ],
     "prompt_number": 3
    },
    {
     "cell_type": "markdown",
     "metadata": {},
     "source": [
      "Luckily, there are libraries that do all that for us. One of the most popular ML libraries in python is *scikit learn*. \n",
      "We can easily verify that it computes the same function:\n",
      "\n",
      "(we see that sklearn automatically adds a bias, stored in the variable \"intercept_\")"
     ]
    },
    {
     "cell_type": "code",
     "collapsed": false,
     "input": [
      "from sklearn.linear_model import LinearRegression\n",
      "lr = LinearRegression()\n",
      "lr.fit(X, Y)\n",
      "\n",
      "X_rng = np.linspace(40, 120, 100).reshape((-1,1))\n",
      "\n",
      "scatter(X, Y)\n",
      "plot(X_rng, lr.predict(X_rng));\n",
      "lr.coef_, lr.intercept_"
     ],
     "language": "python",
     "metadata": {},
     "outputs": [
      {
       "metadata": {},
       "output_type": "pyout",
       "prompt_number": 4,
       "text": [
        "(array([ 10.04581152]), 58.789267015706969)"
       ]
      },
      {
       "metadata": {},
       "output_type": "display_data",
       "png": "[encoded data removed]",
       "text": [
        "<matplotlib.figure.Figure at 0x7f3beec967d0>"
       ]
      }
     ],
     "prompt_number": 4
    },
    {
     "cell_type": "markdown",
     "metadata": {},
     "source": [
      "The blue line is now our prediction. And you see that it fits the data Ok, but not perfectly. Still, it looks like a reasonable guess. Most importantly, it also makes a prediction for inputs $x$ for which we did not have any training data.\n",
      "\n",
      "## Overfitting\n",
      "\n",
      "What if we don't want to fit a line, but some more complex model, e.g. a polynomial? This is easily down by *augmenting our input* (also called *feature expansion*) by different powers of the input:\n",
      "\n",
      "$f(\\tilde{\\mathbf{x}}) = [\\mathbf{x}, \\mathbf{x}^2, \\mathbf{x}^3, ... ]$\n",
      "\n",
      "Let's try that out:"
     ]
    },
    {
     "cell_type": "code",
     "collapsed": false,
     "input": [
      "def polynomial_feature_expansion(X):\n",
      "    return np.hstack([X, X**2, X**3, X**4, X**5,])\n",
      "\n",
      "X_rng = np.linspace(20, 140, 100).reshape((-1,1))\n",
      "\n",
      "lr = LinearRegression()\n",
      "lr.fit(polynomial_feature_expansion(X), Y)\n",
      "\n",
      "scatter(X, Y)\n",
      "plot(X_rng, lr.predict(polynomial_feature_expansion(X_rng)));\n",
      "ylim(200, 2000)\n",
      "lr.coef_, lr.intercept_"
     ],
     "language": "python",
     "metadata": {},
     "outputs": [
      {
       "metadata": {},
       "output_type": "pyout",
       "prompt_number": 5,
       "text": [
        "(array([  1.44137296e+04,  -3.94630145e+02,   5.20499616e+00,\n",
        "         -3.31906931e-02,   8.21304323e-05]), -201202.68818045547)"
       ]
      },
      {
       "metadata": {},
       "output_type": "display_data",
       "png": "[encoded data removed]",
       "text": [
        "<matplotlib.figure.Figure at 0x7f3bcc770090>"
       ]
      }
     ],
     "prompt_number": 5
    },
    {
     "cell_type": "markdown",
     "metadata": {},
     "source": [
      "We see that the training data is fitted almost perfectly; but the function hallucinates weird values inbetween and before/after the training data! This is a classical example of overfitting: we used a function that is too \"powerful\", as it has many more parameters than the linear model. There are different ways to remedy this problem:\n",
      "- Learning from more training data\n",
      "- Restricting the function to a simpler one (e.g. less parameters)\n",
      "- Regularization\n",
      "\n",
      "[Regularization](https://en.wikipedia.org/wiki/Regularization_%28mathematics%29) is a different way to enforce a simpler function to be learned, while keeping the number of parameters that are learned the same. Instead, we put additional into the loss function. A popular regularization is *L2* which puts a norm penalty on the weights, i.e. $||\\mathbf{w}||^2$. The optimizer then has to make sure not only to fulfill the initial loss, e.g. the mean-squared error, but also the regularization. \n",
      "\n",
      "A linear regression with L2 regularization is called *ridge regression*, and is also implemented in scikit learn:"
     ]
    },
    {
     "cell_type": "code",
     "collapsed": false,
     "input": [
      "from sklearn.linear_model import Ridge\n",
      "\n",
      "lr = Ridge(alpha=20.)\n",
      "lr.fit(polynomial_feature_expansion(X), Y)\n",
      "\n",
      "scatter(X, Y)\n",
      "plot(X_rng, lr.predict(polynomial_feature_expansion(X_rng)));\n",
      "ylim(200, 2000)\n",
      "lr.coef_, lr.intercept_"
     ],
     "language": "python",
     "metadata": {},
     "outputs": [
      {
       "metadata": {},
       "output_type": "pyout",
       "prompt_number": 6,
       "text": [
        "(array([ -5.20832737e-02,  -2.00807910e+00,   5.28324483e-02,\n",
        "         -4.75230122e-04,   1.44755456e-06]), 1401.9265644036786)"
       ]
      },
      {
       "metadata": {},
       "output_type": "display_data",
       "png": "[encoded data removed]",
       "text": [
        "<matplotlib.figure.Figure at 0x7f3bc2c15550>"
       ]
      }
     ],
     "prompt_number": 6
    },
    {
     "cell_type": "markdown",
     "metadata": {},
     "source": [
      "Here $\\alpha$ weights the influence of the regularizer. We see, that the values inbetween are much smoother, but still for values $>120$ and $<40$ the linear model reflects our intuition about the real $f$ better."
     ]
    },
    {
     "cell_type": "markdown",
     "metadata": {},
     "source": [
      "## Regression vs. Classification\n",
      "\n",
      "Before we talk about more sophisticated supervised learning method, we should clarify the terms *regression* and *classification*. The only difference between these two concepts is whether $y$ is discrete or continuous. In the previous example we used regression, i.e. we treated the price as a continuous variable. In classification, we are usually given a discrete, finite set of *classes*, and we are only interested in predicting the class of a new input. The only thing that changes because of this is the loss. We won't bother about these loss functions now, but in case you are interested, common choices are the [categorical cross-entropy](https://en.wikipedia.org/wiki/Cross_entropy#Cross-entropy_error_function_and_logistic_regression) loss or the [hinge loss](https://en.wikipedia.org/wiki/Hinge_loss).\n",
      "\n",
      "But watch out, the terminology is not always fully consistent: a linear model with a categorical cross-entropy loss is called *logistic regression* -- although it is actually a *classification*!"
     ]
    },
    {
     "cell_type": "markdown",
     "metadata": {},
     "source": [
      "## (Deep) Neural Networks\n",
      "\n",
      "Currently, they are probably the most popular approach in supervised learning. The idea is to compose the function $f$ of small slightly nonlinear functions (neurons) and connect them. This small nonlinear functions are called *neurons*, and together they form a neural network that can be visualized as follows:\n",
      "\n",
      "<img src=\"https://upload.wikimedia.org/wikipedia/commons/e/e4/Artificial_neural_network.svg\" alt=\"Artificial neural network (https://commons.wikimedia.org/wiki/File:Artificial_neural_network.svg)\" style=\"width: 20%;\"/>\n",
      "\n",
      "The picture (image taken from [wikipedia](https://commons.wikimedia.org/wiki/File:Artificial_neural_network.svg)) depicts a network with an input layer ($=\\mathbf{x}$), an output ($=f(\\mathbf{x})$, should be equal to $y$) and a hidden layer. This hidden layer can learn some representation of $\\mathbf{x}$ that is suitable for predicting $y$. For the record, this network structure is also sometimes called *multi-layer perceptron*.\n",
      "\n",
      "What does a (non-input and non-output) neuron look like? In fact, a neuron basically multiplies a linear weight vector with its input (sounds exactly like linear regression, right?) and then applying some nonlinearity on the output of this operation. Let's make this formal; a neuron $h_i$ (in the hidden layer), given input $\\mathbf{z}$ (in the network above $\\mathbf{z} = \\mathbf{x}$), computes its output as follows:\n",
      "\n",
      "$$h_i(\\mathbf{z}) = \\sigma(\\mathbf{w}_{h_i}^T\\mathbf{z})$$\n",
      "\n",
      "where $\\sigma$ denotes some nonlinear *activation function*, often something like the *sigmoid*-function:\n",
      "\n",
      "$$\\sigma(t) = \\frac{1}{1 + e^{-t}}$$,\n",
      "\n",
      "<img src=\"https://upload.wikimedia.org/wikipedia/commons/5/53/Sigmoid-function-2.svg\" alt=\"Signmoid function (https://commons.wikimedia.org/wiki/File:Sigmoid-function-2.svg)\" style=\"width: 40%;\"/>\n",
      "\n",
      "although the [hyperbolic tangent](http://mathworld.wolfram.com/HyperbolicTangent.html) and [rectifiers](https://en.wikipedia.org/wiki/Rectifier_%28neural_networks%29) are used more commonly.\n",
      "\n",
      "A hidden layer $f_h$ composed of $H$ neurons then computes its output as follows:\n",
      "\n",
      "$$ f_h(\\mathbf{z}) = \\sigma(\\mathbf{W}_{h} \\mathbf{z}),$$\n",
      "\n",
      "where ${\\mathbf{W} _ h}$ is a $\\mathrm{dim}(\\mathbf{z}) \\times k$ matrix  composed of the stacked (transposed) weight vectors $\\mathbf{w}_{h_i}^T, i=1 \\ldots H$, and the activation function $\\sigma$ is applied separately to each output dimension of $\\mathbf{W}_H$. \n",
      "\n",
      "So what are *deep networks*? The idea is to add multiple hidden layers -- the more hidden layers there are, the \"deeper\" the network is? Mathematically, it is just a repeated application of multiplying a linear weight with the output of the previous layer, then computing the activation, passing it to the next layer, and so on.\n",
      "\n",
      "Finally, we have to say how to train them. We can use the same loss functions as for linear regression (or classification, of course), however, we have adapt our optimization scheme -- yet the most popular method is gradient descent. However, if we have multiple layers, we need to apply some tricks. The first trick is *backpropagation*; it basically says that to train multiple layers, we are going to train layer by layer separately, and pass the loss backwards through the network. For this to work, we must apply some additional tricks, e.g. setting the initial values of all weights appropriately and so on. \n",
      "\n",
      "In case you want to a more in-depth treatment of deep learning, check out [this book](http://www.deeplearningbook.org/)."
     ]
    },
    {
     "cell_type": "markdown",
     "metadata": {},
     "source": [
      "# Unsupervised Learning\n",
      "\n",
      "Unsupervised differs from supervised learning that we are only given $\\{x^(i)\\}_{i=1 \\ldots N}$, an no labels. This obviously means that the loss functions we've seen so far will not work. Instead the loss functions impose some \"statistical\" constraints on $y$. A good example is *Principal component analysis* (PCA): here we want to learn a low-dimensional variant of $x$ -- however, which still contains roughly the same \"information\" as the original $x$. The question is how to quantify \"information\". This very complicated and highly depends on the task; but PCA defines information as *high variance* (in a statistical sense). Therefore, the loss for PCA is roughly equivalent to:\n",
      "\n",
      "$$\\tilde{\\mathcal{L}}_\\textrm{PCA} = -\\textrm{Var}(f(\\mathbf{x}))$$\n",
      "\n",
      "I we need some additional constraints to make this problem solvable. I will not go into details here, but you should understand, that one can formulate learning objectives without any supervised signal, but just by formulating some desired properties of the result of $f$ in the loss function.\n",
      "\n",
      "Note that PCA is somewhat the \"regression\" variant of unsupervised learning. There are also methods that map data into discrete representations, e.g. in clustering. The most popular and yet simplest method is probably [k-means](https://en.wikipedia.org/wiki/K-means_clustering).\n",
      "\n",
      "Also note that unsupervised learning has somewhat different applications than supervised learning. Often it is used for pre-processing the input data, in order to then feed its output to a supervised learning method. Another important application is exploratory data analysis, i.e. studying and finding patterns in your data."
     ]
    },
    {
     "cell_type": "markdown",
     "metadata": {
      "collapsed": true
     },
     "source": [
      "# Reinforcement Learning\n",
      "\n",
      "In reinforcement learning our $Y$ are *actions* that an agent should take, and our input *X* is the state. Usually we call the state $\\mathbf{s}$, the actions $\\mathbf{a}$, and the function we want to learn is a *policy* $\\pi$:\n",
      "\n",
      "$$ \\pi(\\mathbf{s}) = \\mathbf{a}$$\n",
      "\n",
      "A crucial difference to supervised learning is that we do not know the correct actions $\\mathbf{a}$. Rather, we only get a *reward signal* $r(\\mathbf{s}, \\mathbf{a})$ for every action we take (in a certain state).\n",
      "\n",
      "Obviously, this problem is much harder as learning becomes indirect -- you need to figure out. There is a wide variety of different techniques, such as *policy search*, *value-based methods* and *model-based reinforcement learning* to tackle this problem. We cannot look at all of these techniques in detail here, but it is important that you at least understand the general setting of reinforcement learning, and its difference to supervised learning (and unsupervised learning)."
     ]
    },
    {
     "cell_type": "markdown",
     "metadata": {},
     "source": []
    }
   ],
   "metadata": {}
  }
 ]
}